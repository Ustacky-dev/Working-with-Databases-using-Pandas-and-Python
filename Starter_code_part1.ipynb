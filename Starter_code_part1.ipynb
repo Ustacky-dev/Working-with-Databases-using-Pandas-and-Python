{
 "cells": [
  {
   "cell_type": "markdown",
   "metadata": {},
   "source": [
    "## Query languages in Nigeria from “World_x” MySQL Database"
   ]
  },
  {
   "cell_type": "code",
   "execution_count": 1,
   "metadata": {},
   "outputs": [],
   "source": [
    "import pymysql\n",
    "import pandas as pd\n",
    "from sqlalchemy import create_engine"
   ]
  },
  {
   "cell_type": "markdown",
   "metadata": {},
   "source": [
    "### Step 1\n",
    "Create an SQLAlchemy engine for a MySQL database, and enter the appropriate credentials, which includes user, password, database and host. "
   ]
  },
  {
   "cell_type": "code",
   "execution_count": 2,
   "metadata": {},
   "outputs": [],
   "source": [
    "# create sqlalchemy engine\n",
    "#Write your code here"
   ]
  },
  {
   "cell_type": "markdown",
   "metadata": {},
   "source": [
    "### Step 2\n",
    "Read the `country` and the `countrylanguage` tables. You can do this with the Pandas.read_sql or read_sql_table method. \n",
    "You expected to generate two pandas DataFrame from this, and you can provide any name for them. \n"
   ]
  },
  {
   "cell_type": "code",
   "execution_count": 3,
   "metadata": {},
   "outputs": [],
   "source": [
    "#Write your code here"
   ]
  },
  {
   "cell_type": "markdown",
   "metadata": {},
   "source": [
    "### Step 3\n",
    "Rename the “CountryCode” column in the DataFrame generated from the “Countrylanguage” table. The new column name is “Code”. Hint: Use the Pandas.rename() method for this. "
   ]
  },
  {
   "cell_type": "code",
   "execution_count": 5,
   "metadata": {},
   "outputs": [],
   "source": [
    "#Write your code here"
   ]
  },
  {
   "cell_type": "markdown",
   "metadata": {},
   "source": [
    "### Step 4\n",
    "In this step, you are expected to perform a `LEFT JOIN` by joining the “country” table to “countrylanguage”. You will perform this step using the Pandas method of combining data on a common column which is “Code”. Save your result to a DataFrame named “df_country”"
   ]
  },
  {
   "cell_type": "code",
   "execution_count": 7,
   "metadata": {},
   "outputs": [],
   "source": [
    "#Write your code here"
   ]
  },
  {
   "cell_type": "markdown",
   "metadata": {},
   "source": [
    "### Step 5\n",
    "From the results above, you will filter the DataFrame(df_country) to return another DataFrame where the “Code” column is `NGA` and the “Name” column is `Nigeria`. In essence, you are to generate a table for the country Nigeria. You can name this DataFrame `df_Nigeria`"
   ]
  },
  {
   "cell_type": "code",
   "execution_count": 9,
   "metadata": {},
   "outputs": [],
   "source": [
    "#Write your code here"
   ]
  },
  {
   "cell_type": "markdown",
   "metadata": {},
   "source": [
    "### Step 6\n",
    "To test the methods above, perform a similar `LEFT JOIN` by writing an SQL query(not Pandas method) and save to a variable. Using the Pandas.read_sql method, read the query from the database to perform and generate results for the join procedure. Save the result to another DataFrame name e.g `df_Nigeria_SQL`\n",
    "Note: Use `SELECT * ` when writing the query so as to generate columns that are similar to previous steps. Also remember to drop the `countrycode` column\n"
   ]
  },
  {
   "cell_type": "code",
   "execution_count": 1,
   "metadata": {},
   "outputs": [],
   "source": [
    "#Write your code here"
   ]
  },
  {
   "cell_type": "markdown",
   "metadata": {},
   "source": [
    "### Step 7\n",
    "Use the shape attribute to check the shape of both DataFrames `(df_Nigeria & df_Nigeria_SQL)`. The result should be the same for both DataFrames. You can write a conditional statement to check if both shapes are equal. \n",
    "Ensure that you don’t have `countrycode` column in your test DataFrame\n"
   ]
  },
  {
   "cell_type": "code",
   "execution_count": 2,
   "metadata": {},
   "outputs": [],
   "source": [
    "#Write your code here"
   ]
  },
  {
   "cell_type": "markdown",
   "metadata": {},
   "source": [
    "### Step 8\n",
    "Using the DataFrame.to_sql method, save the results of “df_Nigeria” to a new table(you can provide any name e.g “nigerialanguage” to the database. \n",
    "Provide a screenshot to show that your procedure ran successfully. \n"
   ]
  },
  {
   "cell_type": "code",
   "execution_count": 3,
   "metadata": {},
   "outputs": [],
   "source": [
    "#Write your code here"
   ]
  },
  {
   "cell_type": "code",
   "execution_count": null,
   "metadata": {},
   "outputs": [],
   "source": []
  }
 ],
 "metadata": {
  "kernelspec": {
   "display_name": "Python 3",
   "language": "python",
   "name": "python3"
  },
  "language_info": {
   "codemirror_mode": {
    "name": "ipython",
    "version": 3
   },
   "file_extension": ".py",
   "mimetype": "text/x-python",
   "name": "python",
   "nbconvert_exporter": "python",
   "pygments_lexer": "ipython3",
   "version": "3.8.3"
  }
 },
 "nbformat": 4,
 "nbformat_minor": 4
}